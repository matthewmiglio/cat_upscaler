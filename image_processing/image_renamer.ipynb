{
 "cells": [
  {
   "cell_type": "code",
   "execution_count": 1,
   "metadata": {},
   "outputs": [],
   "source": [
    "import os\n",
    "import uuid\n",
    "\n",
    "def rename_files(folder_path):\n",
    "    # Get a list of all files in the folder\n",
    "    files = os.listdir(folder_path)\n",
    "\n",
    "    # Iterate over each file\n",
    "    for file_name in files:\n",
    "        # Generate a unique file name using UUID\n",
    "        unique_name = str(uuid.uuid4())\n",
    "\n",
    "        # Get the file extension\n",
    "        file_extension = os.path.splitext(file_name)[1]\n",
    "\n",
    "        # Construct the new file name with the same extension\n",
    "        new_file_name = unique_name + file_extension\n",
    "\n",
    "        # Rename the file\n",
    "        os.rename(os.path.join(folder_path, file_name), os.path.join(folder_path, new_file_name))\n"
   ]
  },
  {
   "cell_type": "code",
   "execution_count": 2,
   "metadata": {},
   "outputs": [],
   "source": [
    "target_folder = r'C:\\Users\\matmi\\Desktop\\my files\\my programs\\upscaler_train\\__test_export'\n",
    "rename_files(target_folder)"
   ]
  }
 ],
 "metadata": {
  "kernelspec": {
   "display_name": "Python 3",
   "language": "python",
   "name": "python3"
  },
  "language_info": {
   "codemirror_mode": {
    "name": "ipython",
    "version": 3
   },
   "file_extension": ".py",
   "mimetype": "text/x-python",
   "name": "python",
   "nbconvert_exporter": "python",
   "pygments_lexer": "ipython3",
   "version": "3.11.0"
  }
 },
 "nbformat": 4,
 "nbformat_minor": 2
}
