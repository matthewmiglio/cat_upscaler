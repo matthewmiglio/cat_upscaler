{
 "cells": [
  {
   "cell_type": "code",
   "execution_count": 82,
   "metadata": {},
   "outputs": [],
   "source": [
    "import random\n",
    "import matplotlib.pyplot as plt\n",
    "import cv2\n",
    "\n",
    "\n",
    "def create_progressively_worse_images(image, n):\n",
    "    # Get the original image dimensions\n",
    "    height, width, _ = image.shape\n",
    "\n",
    "    images = [image]\n",
    "\n",
    "    # Create progressively worse images\n",
    "    for i in range(1, n + 1):\n",
    "        # Calculate the downscaled dimensions\n",
    "        scale_factor = 1 - (i / (n * 2))  # Gradually reduce image size\n",
    "        new_width = int(width * scale_factor)\n",
    "        new_height = int(height * scale_factor)\n",
    "\n",
    "        # Resize the image to simulate lower quality\n",
    "        downscaled_image = cv2.resize(\n",
    "            image, (new_width, new_height), interpolation=cv2.INTER_LINEAR\n",
    "        )\n",
    "        images.append(downscaled_image)\n",
    "\n",
    "    return images  # first one is HR, last one is the worst quality\n",
    "\n",
    "\n",
    "def show_cv2_image_as_matplotlib_pyplot(cv2_image):\n",
    "    \"\"\"\n",
    "    Display a OpenCV image in a Matplotlib Pyplot window.\n",
    "\n",
    "    Parameters:\n",
    "        cv2_image (numpy.ndarray): OpenCV image to display.\n",
    "    \"\"\"\n",
    "    plt.figure(figsize=(8, 8))\n",
    "    plt.imshow(cv2.cvtColor(cv2_image, cv2.COLOR_BGR2RGB))\n",
    "    plt.axis(\"off\")\n",
    "    plt.show()\n",
    "\n",
    "def resize_cv2_image(image,w,h):\n",
    "    return cv2.resize(image, (w, h), interpolation=cv2.INTER_LINEAR)\n",
    "\n",
    "def image_path_to_lr_hr_images(image_path,w=1920,h=1080):\n",
    "    image = cv2.imread(image_path)\n",
    "\n",
    "    downsample_iteration_count = random.randint(0, 10)\n",
    "\n",
    "    images = create_progressively_worse_images(image, downsample_iteration_count)\n",
    "\n",
    "    lr_image_index = random.randint(0, downsample_iteration_count - 1)\n",
    "    hr_image_index = lr_image_index + 1\n",
    "\n",
    "    lr_image = resize_cv2_image(images[lr_image_index],w,h)\n",
    "    hr_image = resize_cv2_image(images[hr_image_index],w,h)\n",
    "\n",
    "    return lr_image, hr_image"
   ]
  },
  {
   "cell_type": "code",
   "execution_count": null,
   "metadata": {},
   "outputs": [],
   "source": [
    "input_image_path = r\"H:\\my_files\\my_programs\\cat_upscaler\\cats\\0a1ec006-994b-4e4e-83d2-66fedab5c0be.jpg\"\n",
    "\n",
    "lr_image, hr_image=image_path_to_lr_hr_images(input_image_path)\n",
    "\n",
    "show_cv2_image_as_matplotlib_pyplot(lr_image)\n",
    "show_cv2_image_as_matplotlib_pyplot(hr_image)\n",
    "\n",
    "#print shape of both images\n",
    "print(lr_image.shape)\n",
    "print(hr_image.shape)\n"
   ]
  }
 ],
 "metadata": {
  "kernelspec": {
   "display_name": "Python 3",
   "language": "python",
   "name": "python3"
  },
  "language_info": {
   "codemirror_mode": {
    "name": "ipython",
    "version": 3
   },
   "file_extension": ".py",
   "mimetype": "text/x-python",
   "name": "python",
   "nbconvert_exporter": "python",
   "pygments_lexer": "ipython3",
   "version": "3.11.1"
  }
 },
 "nbformat": 4,
 "nbformat_minor": 2
}
