{
 "cells": [
  {
   "cell_type": "code",
   "execution_count": 10,
   "metadata": {},
   "outputs": [
    {
     "name": "stdout",
     "output_type": "stream",
     "text": [
      "Have a total of 5011 images\n"
     ]
    }
   ],
   "source": [
    "all_cats_images_dir = r'H:\\my_files\\my_programs\\cat_upscaler\\datasets\\raw_cat_images'\n",
    "import os\n",
    "all_cat_image_paths = [os.path.join(all_cats_images_dir,f) for f in os.listdir(all_cats_images_dir)]\n",
    "print(f'Have a total of {len(all_cat_image_paths)} images')"
   ]
  },
  {
   "cell_type": "code",
   "execution_count": 11,
   "metadata": {},
   "outputs": [],
   "source": [
    "# method to resize an image\n",
    "import cv2\n",
    "\n",
    "\n",
    "def resize_image(image_path, new_size):\n",
    "    image = cv2.imread(image_path)\n",
    "    image = cv2.resize(image, new_size)\n",
    "    return image\n",
    "\n",
    "\n",
    "def make_images(input_cv2_image):\n",
    "    _1280_image = cv2.resize(input_cv2_image, (1280, 1280))\n",
    "    _640_image = cv2.resize(input_cv2_image, (640, 640))\n",
    "\n",
    "    return _640_image, _1280_image\n",
    "\n",
    "\n",
    "import random\n",
    "\n",
    "index = 0\n",
    "\n",
    "\n",
    "def export_images(image_index,export_dir, _640_image, _1280_image):\n",
    "    _640_images_folder = os.path.join(export_dir, \"640\")\n",
    "    _1280_images_folder = os.path.join(export_dir, \"1280\")\n",
    "    for folder in [_640_images_folder, export_dir, _1280_images_folder]:\n",
    "        os.makedirs(folder, exist_ok=True)\n",
    "\n",
    "    unique_picture_id = f\"{image_index}{random.randint(100,999)}.jpg\"\n",
    "    _640_path = os.path.join(_640_images_folder, unique_picture_id)\n",
    "    _1280_path = os.path.join(_1280_images_folder, unique_picture_id)\n",
    "\n",
    "    cv2.imwrite(_640_path, _640_image)\n",
    "    cv2.imwrite(_1280_path, _1280_image)\n",
    "\n",
    "def make_dataset(dataset_name):\n",
    "    export_dir = os.path.join(os.getcwd().replace('dataset_creation','datasets'), dataset_name)\n",
    "    for i,image in enumerate(all_cat_image_paths):\n",
    "        image = cv2.imread(image)\n",
    "        _640_image, _1280_image=make_images(image)\n",
    "        export_images(i,export_dir, _640_image, _1280_image)\n",
    "\n",
    "make_dataset('640_1280_cat_images')"
   ]
  }
 ],
 "metadata": {
  "kernelspec": {
   "display_name": "Python 3",
   "language": "python",
   "name": "python3"
  },
  "language_info": {
   "codemirror_mode": {
    "name": "ipython",
    "version": 3
   },
   "file_extension": ".py",
   "mimetype": "text/x-python",
   "name": "python",
   "nbconvert_exporter": "python",
   "pygments_lexer": "ipython3",
   "version": "3.11.1"
  }
 },
 "nbformat": 4,
 "nbformat_minor": 2
}
