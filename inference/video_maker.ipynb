{
 "cells": [
  {
   "cell_type": "code",
   "execution_count": 1,
   "metadata": {},
   "outputs": [
    {
     "name": "stdout",
     "output_type": "stream",
     "text": [
      "Video has been successfully saved to: h:\\my_files\\my_programs\\cat_upscaler\\inference\\videos\\cat_downscale_4th_500_count_2025_01_06_17_37_26_epochs_10_10imgs.mp4\n"
     ]
    }
   ],
   "source": [
    "from math import e\n",
    "import cv2\n",
    "import os\n",
    "from pathlib import Path\n",
    "\n",
    "\n",
    "def compile_images_to_video(\n",
    "    images_folder_path: str, frame_rate: float, export_path: str\n",
    "):\n",
    "    # Get all image files in the folder and sort them by filename\n",
    "    image_files = [f for f in os.listdir(images_folder_path)]\n",
    "\n",
    "    if len(image_files) == 0:\n",
    "        raise ValueError(\"No images found in the specified folder.\")\n",
    "\n",
    "    # Get the first image to determine the video dimensions\n",
    "    first_image_path = os.path.join(images_folder_path, image_files[0])\n",
    "    first_image = cv2.imread(first_image_path)\n",
    "\n",
    "    if first_image is None:\n",
    "        raise ValueError(f\"Failed to read the first image: {first_image_path}\")\n",
    "\n",
    "    height, width, _ = first_image.shape  # Get image dimensions (height, width)\n",
    "\n",
    "    # Create a VideoWriter object\n",
    "    fourcc = cv2.VideoWriter_fourcc(*\"mp4v\")  # Codec for .mp4 video\n",
    "    video_writer = cv2.VideoWriter(export_path, fourcc, frame_rate, (width, height))\n",
    "\n",
    "    # Read and write images to video\n",
    "    for image_file in image_files:\n",
    "        image_path = os.path.join(images_folder_path, image_file)\n",
    "        image = cv2.imread(image_path)\n",
    "\n",
    "        if image is None:\n",
    "            print(f\"Warning: Skipping invalid image: {image_path}\")\n",
    "            continue\n",
    "\n",
    "        video_writer.write(image)  # Add image as a frame to the video\n",
    "\n",
    "    # Release the VideoWriter object\n",
    "    video_writer.release()\n",
    "    print(f\"Video has been successfully saved to: {export_path}\")\n",
    "\n",
    "\n",
    "images_folder_path = r\"H:\\my_files\\my_programs\\cat_upscaler\\inference\\images\\cat_downscale_4th_500_count_2025_01_06_17_37_26_epochs_10_10imgs\"\n",
    "frame_rate = 5  # 30 frames per second\n",
    "this_export_video_name = os.path.basename(images_folder_path) + \".mp4\"\n",
    "os.makedirs(os.path.join(os.getcwd(), \"videos\"), exist_ok=True)\n",
    "export_path = os.path.join(os.getcwd(), \"videos\", this_export_video_name)\n",
    "compile_images_to_video(images_folder_path, frame_rate, export_path)\n"
   ]
  }
 ],
 "metadata": {
  "kernelspec": {
   "display_name": "Python 3",
   "language": "python",
   "name": "python3"
  },
  "language_info": {
   "codemirror_mode": {
    "name": "ipython",
    "version": 3
   },
   "file_extension": ".py",
   "mimetype": "text/x-python",
   "name": "python",
   "nbconvert_exporter": "python",
   "pygments_lexer": "ipython3",
   "version": "3.11.1"
  }
 },
 "nbformat": 4,
 "nbformat_minor": 2
}
